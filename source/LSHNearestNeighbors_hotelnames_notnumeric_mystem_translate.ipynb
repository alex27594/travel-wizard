{
 "cells": [
  {
   "cell_type": "code",
   "execution_count": 24,
   "metadata": {
    "collapsed": false
   },
   "outputs": [],
   "source": [
    "import pandas\n",
    "import time\n",
    "import numpy as np\n",
    "import preprocessors\n",
    "import estimators\n",
    "\n",
    "from sklearn.feature_extraction.text import TfidfVectorizer\n",
    "from sklearn.model_selection import train_test_split\n",
    "from sklearn.metrics import accuracy_score\n",
    "from sklearn.metrics import precision_score\n",
    "from sklearn.metrics import recall_score\n",
    "\n",
    "from estimators import LSHNearestNeighbors"
   ]
  },
  {
   "cell_type": "code",
   "execution_count": 25,
   "metadata": {
    "collapsed": true
   },
   "outputs": [],
   "source": [
    "path = \"../data/query.yaHotelId.showInTop.sure.final.tsv\""
   ]
  },
  {
   "cell_type": "code",
   "execution_count": 26,
   "metadata": {
    "collapsed": false
   },
   "outputs": [
    {
     "name": "stdout",
     "output_type": "stream",
     "text": [
      "Изначальная размерность данных: (588232, 4) ; Количество отелей: 95884\n"
     ]
    }
   ],
   "source": [
    "df = pandas.read_csv(path, sep=\"\\t\")\n",
    "print(\"Изначальная размерность данных:\", df.shape,\";\", \"Количество отелей:\", len(df[\"yaHotelId\"].unique()))"
   ]
  },
  {
   "cell_type": "code",
   "execution_count": 34,
   "metadata": {
    "collapsed": false
   },
   "outputs": [
    {
     "name": "stdout",
     "output_type": "stream",
     "text": [
      "Получившаяся размерность данных: (92427, 4) ; Количество отелей: 7696\n"
     ]
    }
   ],
   "source": [
    "sure_df = df[df[\"sure\"]]\n",
    "filtered_values = [value[0] for value in sure_df[\"yaHotelId\"].value_counts().iteritems() if value[1] >= 5]\n",
    "filtered_df = sure_df[sure_df[\"yaHotelId\"].isin(filtered_values)]\n",
    "print(\"Получившаяся размерность данных:\", filtered_df.shape, \";\", \"Количество отелей:\", len(filtered_df[\"yaHotelId\"].unique()))"
   ]
  },
  {
   "cell_type": "code",
   "execution_count": 35,
   "metadata": {
    "collapsed": true
   },
   "outputs": [],
   "source": [
    "df_train, df_test = train_test_split(filtered_df, test_size=0.01)\n",
    "df_train.reset_index(drop=True, inplace=True)\n",
    "df_test.reset_index(drop=True, inplace=True)"
   ]
  },
  {
   "cell_type": "code",
   "execution_count": 36,
   "metadata": {
    "collapsed": false
   },
   "outputs": [
    {
     "data": {
      "text/html": [
       "<div>\n",
       "<table border=\"1\" class=\"dataframe\">\n",
       "  <thead>\n",
       "    <tr style=\"text-align: right;\">\n",
       "      <th></th>\n",
       "      <th>query</th>\n",
       "      <th>yaHotelId</th>\n",
       "      <th>showIntop</th>\n",
       "      <th>sure</th>\n",
       "    </tr>\n",
       "  </thead>\n",
       "  <tbody>\n",
       "    <tr>\n",
       "      <th>0</th>\n",
       "      <td>аполлония резорт</td>\n",
       "      <td>4283126</td>\n",
       "      <td>True</td>\n",
       "      <td>True</td>\n",
       "    </tr>\n",
       "    <tr>\n",
       "      <th>1</th>\n",
       "      <td>majestic colonial punta cana hotel</td>\n",
       "      <td>1004918</td>\n",
       "      <td>True</td>\n",
       "      <td>True</td>\n",
       "    </tr>\n",
       "    <tr>\n",
       "      <th>2</th>\n",
       "      <td>centara seaview resort khao lak 4 khao lak</td>\n",
       "      <td>1007612</td>\n",
       "      <td>True</td>\n",
       "      <td>True</td>\n",
       "    </tr>\n",
       "    <tr>\n",
       "      <th>3</th>\n",
       "      <td>brown atrium hotel rimini</td>\n",
       "      <td>1011768</td>\n",
       "      <td>True</td>\n",
       "      <td>True</td>\n",
       "    </tr>\n",
       "    <tr>\n",
       "      <th>4</th>\n",
       "      <td>alan xafira deluxe resort spa8 турция анталья ...</td>\n",
       "      <td>1003046</td>\n",
       "      <td>True</td>\n",
       "      <td>True</td>\n",
       "    </tr>\n",
       "  </tbody>\n",
       "</table>\n",
       "</div>"
      ],
      "text/plain": [
       "                                               query  yaHotelId showIntop  \\\n",
       "0                                   аполлония резорт    4283126      True   \n",
       "1                 majestic colonial punta cana hotel    1004918      True   \n",
       "2         centara seaview resort khao lak 4 khao lak    1007612      True   \n",
       "3                          brown atrium hotel rimini    1011768      True   \n",
       "4  alan xafira deluxe resort spa8 турция анталья ...    1003046      True   \n",
       "\n",
       "   sure  \n",
       "0  True  \n",
       "1  True  \n",
       "2  True  \n",
       "3  True  \n",
       "4  True  "
      ]
     },
     "execution_count": 36,
     "metadata": {},
     "output_type": "execute_result"
    }
   ],
   "source": [
    "df_train.head()"
   ]
  },
  {
   "cell_type": "code",
   "execution_count": 37,
   "metadata": {
    "collapsed": false
   },
   "outputs": [
    {
     "name": "stdout",
     "output_type": "stream",
     "text": [
      "(7072, 2)\n",
      "(21216, 2)\n"
     ]
    }
   ],
   "source": [
    "ids = set(df_train[\"yaHotelId\"])\n",
    "df_hotels = pandas.read_csv(\"../data/hotel_all.csv\")\n",
    "df_hotels = df_hotels[df_hotels[\"id\"].isin(ids)]\n",
    "df_hotels.rename(columns={\"id\":\"yaHotelId\", \"all\": \"query\"}, inplace=True)\n",
    "df_hotels.drop(labels=[\"Unnamed: 0\"], axis=1, inplace=True)\n",
    "df_hotels.dropna(axis=0, how=\"any\", inplace=True)\n",
    "print(df_hotels.shape)\n",
    "df_hotels = preprocessors.buildup_set(df_hotels)\n",
    "print(df_hotels.shape)"
   ]
  },
  {
   "cell_type": "code",
   "execution_count": 38,
   "metadata": {
    "collapsed": false
   },
   "outputs": [],
   "source": [
    "df_tr = df_train.append(df_hotels)\n",
    "df_tr.reset_index(drop=True, inplace=True)"
   ]
  },
  {
   "cell_type": "code",
   "execution_count": 39,
   "metadata": {
    "collapsed": false
   },
   "outputs": [
    {
     "data": {
      "text/html": [
       "<div>\n",
       "<table border=\"1\" class=\"dataframe\">\n",
       "  <thead>\n",
       "    <tr style=\"text-align: right;\">\n",
       "      <th></th>\n",
       "      <th>query</th>\n",
       "      <th>showIntop</th>\n",
       "      <th>sure</th>\n",
       "      <th>yaHotelId</th>\n",
       "    </tr>\n",
       "  </thead>\n",
       "  <tbody>\n",
       "    <tr>\n",
       "      <th>112713</th>\n",
       "      <td>Artemis Apartments</td>\n",
       "      <td>NaN</td>\n",
       "      <td>NaN</td>\n",
       "      <td>4702510</td>\n",
       "    </tr>\n",
       "    <tr>\n",
       "      <th>112714</th>\n",
       "      <td>Sunset Apartments</td>\n",
       "      <td>NaN</td>\n",
       "      <td>NaN</td>\n",
       "      <td>4707616</td>\n",
       "    </tr>\n",
       "    <tr>\n",
       "      <th>112715</th>\n",
       "      <td>Apartments Medena</td>\n",
       "      <td>NaN</td>\n",
       "      <td>NaN</td>\n",
       "      <td>4717444</td>\n",
       "    </tr>\n",
       "    <tr>\n",
       "      <th>112716</th>\n",
       "      <td>ibis Budapest Heroes Square</td>\n",
       "      <td>NaN</td>\n",
       "      <td>NaN</td>\n",
       "      <td>4718594</td>\n",
       "    </tr>\n",
       "    <tr>\n",
       "      <th>112717</th>\n",
       "      <td>Отель Оганес</td>\n",
       "      <td>NaN</td>\n",
       "      <td>NaN</td>\n",
       "      <td>4729441</td>\n",
       "    </tr>\n",
       "  </tbody>\n",
       "</table>\n",
       "</div>"
      ],
      "text/plain": [
       "                              query showIntop sure  yaHotelId\n",
       "112713           Artemis Apartments       NaN  NaN    4702510\n",
       "112714            Sunset Apartments       NaN  NaN    4707616\n",
       "112715            Apartments Medena       NaN  NaN    4717444\n",
       "112716  ibis Budapest Heroes Square       NaN  NaN    4718594\n",
       "112717                 Отель Оганес       NaN  NaN    4729441"
      ]
     },
     "execution_count": 39,
     "metadata": {},
     "output_type": "execute_result"
    }
   ],
   "source": [
    "df_tr.tail()"
   ]
  },
  {
   "cell_type": "code",
   "execution_count": 40,
   "metadata": {
    "collapsed": false
   },
   "outputs": [
    {
     "data": {
      "text/plain": [
       "(112718, 12671)"
      ]
     },
     "execution_count": 40,
     "metadata": {},
     "output_type": "execute_result"
    }
   ],
   "source": [
    "prep = preprocessors.Preprocessor([preprocessors.num_filter_preprocess, preprocessors.mystem_preprocess, preprocessors.dictionary_preprocess])\n",
    "vectorizer = TfidfVectorizer(preprocessor=prep.preprocess)\n",
    "y_train = np.array(df_tr[\"yaHotelId\"])\n",
    "X_train = vectorizer.fit_transform(df_tr[\"query\"])\n",
    "X_train.shape"
   ]
  },
  {
   "cell_type": "code",
   "execution_count": 41,
   "metadata": {
    "collapsed": true
   },
   "outputs": [],
   "source": [
    "y_test = np.array(df_test[\"yaHotelId\"])\n",
    "X_test = vectorizer.transform(df_test[\"query\"])"
   ]
  },
  {
   "cell_type": "code",
   "execution_count": 42,
   "metadata": {
    "collapsed": false
   },
   "outputs": [
    {
     "name": "stdout",
     "output_type": "stream",
     "text": [
      "new1\n"
     ]
    },
    {
     "data": {
      "text/plain": [
       "LSHNearestNeighbors(answers='one', mode='parzen_window', n_candidates=200,\n",
       "          n_estimators=None, n_neighbors=9,\n",
       "          parzen_func=<function epan_parzen_function at 0x7fea7295b510>)"
      ]
     },
     "execution_count": 42,
     "metadata": {},
     "output_type": "execute_result"
    }
   ],
   "source": [
    "clf = LSHNearestNeighbors(n_estimators=15, n_candidates=200, n_neighbors=9, mode=\"parzen_window\", \n",
    "                          parzen_func=estimators.epan_parzen_function)\n",
    "clf.fit(X_train, y_train)"
   ]
  },
  {
   "cell_type": "code",
   "execution_count": 43,
   "metadata": {
    "collapsed": false
   },
   "outputs": [
    {
     "name": "stdout",
     "output_type": "stream",
     "text": [
      "accuracy: 0.918918918919\n"
     ]
    }
   ],
   "source": [
    "y_pred = clf.predict(X_test)\n",
    "print(\"accuracy:\", accuracy_score(y_test, y_pred))"
   ]
  },
  {
   "cell_type": "code",
   "execution_count": 44,
   "metadata": {
    "collapsed": false
   },
   "outputs": [
    {
     "name": "stdout",
     "output_type": "stream",
     "text": [
      "precision: 0.924504504505\n"
     ]
    },
    {
     "name": "stderr",
     "output_type": "stream",
     "text": [
      "/home/alexander/anaconda3/lib/python3.6/site-packages/sklearn/metrics/classification.py:1113: UndefinedMetricWarning: Precision is ill-defined and being set to 0.0 in labels with no predicted samples.\n",
      "  'precision', 'predicted', average, warn_for)\n"
     ]
    }
   ],
   "source": [
    "print(\"precision:\", precision_score(y_test, y_pred, average=\"weighted\"))"
   ]
  },
  {
   "cell_type": "code",
   "execution_count": 45,
   "metadata": {
    "collapsed": false
   },
   "outputs": [
    {
     "name": "stdout",
     "output_type": "stream",
     "text": [
      "recall: 0.918918918919\n"
     ]
    },
    {
     "name": "stderr",
     "output_type": "stream",
     "text": [
      "/home/alexander/anaconda3/lib/python3.6/site-packages/sklearn/metrics/classification.py:1115: UndefinedMetricWarning: Recall is ill-defined and being set to 0.0 in labels with no true samples.\n",
      "  'recall', 'true', average, warn_for)\n"
     ]
    }
   ],
   "source": [
    "print(\"recall:\", recall_score(y_test, y_pred, average=\"weighted\"))"
   ]
  },
  {
   "cell_type": "code",
   "execution_count": 46,
   "metadata": {
    "collapsed": false
   },
   "outputs": [
    {
     "data": {
      "text/plain": [
       "0    0.066414\n",
       "Name: 0.9, dtype: float64"
      ]
     },
     "execution_count": 46,
     "metadata": {},
     "output_type": "execute_result"
    }
   ],
   "source": [
    "clf.get_quantile(p=0.9)"
   ]
  },
  {
   "cell_type": "code",
   "execution_count": 47,
   "metadata": {
    "collapsed": false
   },
   "outputs": [
    {
     "data": {
      "text/plain": [
       "0    0.00035\n",
       "Name: 0.9, dtype: float64"
      ]
     },
     "execution_count": 47,
     "metadata": {},
     "output_type": "execute_result"
    }
   ],
   "source": [
    "prep.get_quantile(p=0.9)"
   ]
  },
  {
   "cell_type": "code",
   "execution_count": 48,
   "metadata": {
    "collapsed": false
   },
   "outputs": [
    {
     "name": "stdout",
     "output_type": "stream",
     "text": [
      "[1, 4]Right:1013207, predicted:2664200\n",
      "text:гостиница ялта\n",
      "preprocessed text:hotel yalta\n",
      "neighbors: [2664200, 2664200, 1009854, 2664200, 2664200, 1013207, 1009854, 1013207, 1009854]\n",
      "--\n",
      "another queries of right class:\n",
      "ялта интурист букинг ком\n",
      "интурист ялта официальный сайт цены на 2015 год\n",
      "ялта интурист цены\n",
      "zknf bynehbcn\n",
      "ялта интурист официальный сайт цены\n",
      "--\n",
      "another queries of predicted class:\n",
      "отель таврида ялта официальный сайт\n",
      "отель таврида ялта\n",
      "таврида ялта\n",
      "таврида ялта отель\n",
      "таврида ялта официальный сайт\n",
      "---------------------------------\n",
      "[2, 20]Right:1003970, predicted:1011522\n",
      "text:колония санта мария 4\n",
      "preprocessed text:colony santa maria 4\n",
      "neighbors: [1011522, 1011522, 1009722, 1011522, 1011522, 1011522, 1011522, 1011522, 1011356]\n",
      "--\n",
      "another queries of right class:\n",
      "colonia santa maria\n",
      "colonia santa maria 3\n",
      "colonia santa maria 4\n",
      "colonia santa maria 2\n",
      "индия отель санта\n",
      "--\n",
      "another queries of predicted class:\n",
      "hotel santa maria 3 искья\n",
      "santa maria искья\n",
      "santa maria 3 искья\n",
      "hotel santa maria\n",
      "острова главная острова искья отели на о искья hotel santa maria 3 сицилия сардиния искья капри искья на ваш выбор отели на о искья отели на о искья hotel santa maria 3\n",
      "---------------------------------\n",
      "[3, 32]Right:1009195, predicted:1009347\n",
      "text:отель монтенегро черногория будва\n",
      "preprocessed text:hotel montenegro montenegro budva\n",
      "neighbors: [1009347, 1009347, 1009347, 1009347, 1009347, 1009195, 1009195, 1009195, 1009195]\n",
      "--\n",
      "another queries of right class:\n",
      "montenegro beach 4 бечичи\n",
      "montenegro beach resort 4 черногория\n",
      "montenegro 4\n",
      "букинг черногория\n",
      "отель монтенегро бечичи черногория\n",
      "--\n",
      "another queries of predicted class:\n",
      "booking будва\n",
      "отель budva 4 черногория\n",
      "budva hotel 4\n",
      "budva hotel\n",
      "hotel budva\n",
      "---------------------------------\n"
     ]
    }
   ],
   "source": [
    "k = 0\n",
    "for i in range(len(y_test[:50])):\n",
    "    if y_test[i] != y_pred[i]:\n",
    "        k+=1\n",
    "        print(\"[{}, {}]Right:{}, predicted:{}\".format(k, i, y_test[i], y_pred[i]))\n",
    "        print(\"text:{}\".format(df_test[\"query\"][i]))\n",
    "        print(\"preprocessed text:{}\".format(prep.preprocess(df_test[\"query\"][i])))\n",
    "        print(\"neighbors:\", clf.get_neighbors(X_test[i,:]))\n",
    "        print(\"--\")\n",
    "        print(\"another queries of right class:\")\n",
    "        for st in df[df[\"yaHotelId\"] == y_test[i]][\"query\"].tolist()[:5]:\n",
    "            print(st)\n",
    "        print(\"--\")\n",
    "        print(\"another queries of predicted class:\")\n",
    "        for st in df[df[\"yaHotelId\"] == y_pred[i]][\"query\"].tolist()[:5]:\n",
    "            print(st)\n",
    "        print(\"---------------------------------\")"
   ]
  },
  {
   "cell_type": "markdown",
   "metadata": {},
   "source": [
    "1)Из данных по ошибкам видно, что иногда объекты правильного класса находятся ближе всего к нашему, но их меньше, поэтому происходит ошибочная классификация. \n",
    "2)Также можно видеть, что в запроса есть много составных слов, которые, вроде как, нужно использовать по отдельности или вообще использовать только пвторую часть слова. \n",
    "3)Вьетнам слишком часто копирует названия."
   ]
  },
  {
   "cell_type": "code",
   "execution_count": 40,
   "metadata": {
    "collapsed": true
   },
   "outputs": [
    {
     "name": "stderr",
     "output_type": "stream",
     "text": [
      "/home/alexander/PycharmProjects/hotels/estimators.py:107: RuntimeWarning: invalid value encountered in double_scalars\n",
      "  rating[k_n_d[i][0]] = self.parzen_func(k_n_d[i][1]/k_n_d[self.n_neighbors - 1][1])\n",
      "/home/alexander/PycharmProjects/hotels/estimators.py:109: RuntimeWarning: invalid value encountered in double_scalars\n",
      "  rating[k_n_d[i][0]] += self.parzen_func(k_n_d[i][1]/k_n_d[self.n_neighbors - 1][1])\n"
     ]
    },
    {
     "data": {
      "text/plain": [
       "[-1]"
      ]
     },
     "execution_count": 40,
     "metadata": {},
     "output_type": "execute_result"
    }
   ],
   "source": [
    "clf.predict(X_test[33, :])"
   ]
  },
  {
   "cell_type": "code",
   "execution_count": 36,
   "metadata": {
    "collapsed": false
   },
   "outputs": [
    {
     "data": {
      "text/plain": [
       "<1x17261 sparse matrix of type '<class 'numpy.float64'>'\n",
       "\twith 3 stored elements in Compressed Sparse Row format>"
      ]
     },
     "execution_count": 36,
     "metadata": {},
     "output_type": "execute_result"
    }
   ],
   "source": [
    "X_test[33]"
   ]
  },
  {
   "cell_type": "code",
   "execution_count": null,
   "metadata": {
    "collapsed": true
   },
   "outputs": [],
   "source": []
  }
 ],
 "metadata": {
  "kernelspec": {
   "display_name": "Python 3",
   "language": "python",
   "name": "python3"
  },
  "language_info": {
   "codemirror_mode": {
    "name": "ipython",
    "version": 3
   },
   "file_extension": ".py",
   "mimetype": "text/x-python",
   "name": "python",
   "nbconvert_exporter": "python",
   "pygments_lexer": "ipython3",
   "version": "3.6.0"
  }
 },
 "nbformat": 4,
 "nbformat_minor": 0
}
