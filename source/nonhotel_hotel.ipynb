{
 "cells": [
  {
   "cell_type": "code",
   "execution_count": 1,
   "metadata": {
    "collapsed": true
   },
   "outputs": [],
   "source": [
    "from preprocessors import *\n",
    "from sklearn.model_selection import train_test_split\n",
    "from sklearn.ensemble import RandomForestClassifier\n",
    "from sklearn.metrics import accuracy_score"
   ]
  },
  {
   "cell_type": "code",
   "execution_count": 3,
   "metadata": {
    "collapsed": false
   },
   "outputs": [],
   "source": [
    "df = pandas.read_csv(\"../data/nonhotel_hotel.tsv\", sep=\"\\t\")\n",
    "df.drop(labels=[\"Unnamed: 0\"], axis=1, inplace=True)"
   ]
  },
  {
   "cell_type": "markdown",
   "metadata": {},
   "source": [
    "Самы частотные слова, наиболее характерные для своих классов:"
   ]
  },
  {
   "cell_type": "code",
   "execution_count": 4,
   "metadata": {
    "collapsed": true
   },
   "outputs": [],
   "source": [
    "hotel_words = [\"отель\", \"hotel\", \"отзыв\", \"beach\", \"resort\", \"дом\", \"гостевой\", \n",
    "               \"букинг\", \"гостиница\", \"сайт\", \"spa\", \"apartments\", \"villa\", \"house\", \n",
    "               \"residence\", \"grand\", \"hostel\", \"хостел\", \"village\", \"villas\", \"plaza\", \"park\", \"park\"]\n",
    "nonhotel_words = [\"в\", \"из\", \"тур\", \"отдых\", \"на\", \"гореть\", \"купить\", \"туроператор\"]"
   ]
  },
  {
   "cell_type": "code",
   "execution_count": 5,
   "metadata": {
    "collapsed": true
   },
   "outputs": [],
   "source": [
    "prep = NonHotelPreprocessor([word_count_feature, isenglish_feature, istitle_feature, many_feature, \n",
    "                             bastard_words_feature, isdigit_feature, isregion_feature, isverb_feature,\n",
    "                             isadjective_feature] \n",
    "                            + [IsWordFeature(word) for word in hotel_words]\n",
    "                            + [IsWordFeature(word) for word in nonhotel_words])"
   ]
  },
  {
   "cell_type": "code",
   "execution_count": 6,
   "metadata": {
    "collapsed": true
   },
   "outputs": [],
   "source": [
    "dfX = df[\"query\"]\n",
    "dfY = df[\"answer\"]"
   ]
  },
  {
   "cell_type": "code",
   "execution_count": 7,
   "metadata": {
    "collapsed": true
   },
   "outputs": [],
   "source": [
    "dfX_train, dfX_test, dfY_train, dfY_test = train_test_split(dfX, dfY, test_size=0.3)\n",
    "dfX_train.reset_index(drop=True, inplace=True)\n",
    "dfX_test.reset_index(drop=True, inplace=True)"
   ]
  },
  {
   "cell_type": "code",
   "execution_count": 8,
   "metadata": {
    "collapsed": false
   },
   "outputs": [
    {
     "name": "stdout",
     "output_type": "stream",
     "text": [
      "(2107, 40) (2107,)\n"
     ]
    }
   ],
   "source": [
    "X_train = prep.preprocess(dfX_train)\n",
    "y_train = np.array(dfY_train)\n",
    "X_test = prep.preprocess(dfX_test)\n",
    "y_test = np.array(dfY_test)\n",
    "print(X_train.shape, y_train.shape)"
   ]
  },
  {
   "cell_type": "code",
   "execution_count": 9,
   "metadata": {
    "collapsed": false
   },
   "outputs": [
    {
     "data": {
      "text/plain": [
       "RandomForestClassifier(bootstrap=True, class_weight=None, criterion='gini',\n",
       "            max_depth=None, max_features='auto', max_leaf_nodes=None,\n",
       "            min_impurity_split=1e-07, min_samples_leaf=1,\n",
       "            min_samples_split=2, min_weight_fraction_leaf=0.0,\n",
       "            n_estimators=100, n_jobs=1, oob_score=False, random_state=None,\n",
       "            verbose=0, warm_start=False)"
      ]
     },
     "execution_count": 9,
     "metadata": {},
     "output_type": "execute_result"
    }
   ],
   "source": [
    "clf = RandomForestClassifier(n_estimators=100)\n",
    "clf.fit(X_train, y_train)"
   ]
  },
  {
   "cell_type": "code",
   "execution_count": 10,
   "metadata": {
    "collapsed": false
   },
   "outputs": [
    {
     "data": {
      "text/plain": [
       "0.94130675526024365"
      ]
     },
     "execution_count": 10,
     "metadata": {},
     "output_type": "execute_result"
    }
   ],
   "source": [
    "y_pred = clf.predict(X_test)\n",
    "accuracy_score(y_pred, y_test)"
   ]
  },
  {
   "cell_type": "markdown",
   "metadata": {},
   "source": [
    "Анализ ошибок:"
   ]
  },
  {
   "cell_type": "code",
   "execution_count": 11,
   "metadata": {
    "collapsed": false
   },
   "outputs": [
    {
     "name": "stdout",
     "output_type": "stream",
     "text": [
      "right:1, predicted:0\n",
      "сколько стоит путевка в доминикану на 10 дней на двоих 2015 все включено \n",
      "predict_proba 0:0.77, 1:0.23\n",
      "---------\n",
      "right:1, predicted:0\n",
      "мальдивы отзывы туристов 2016 \n",
      "predict_proba 0:0.8820119047619046, 1:0.11798809523809523\n",
      "---------\n",
      "right:0, predicted:1\n",
      "мирабель сукко\n",
      "predict_proba 0:0.14973856698856694, 1:0.850261433011433\n",
      "---------\n",
      "right:1, predicted:0\n",
      "пегас туристик самара \n",
      "predict_proba 0:0.8175431790431787, 1:0.1824568209568209\n",
      "---------\n",
      "right:1, predicted:0\n",
      "united arab emirates \n",
      "predict_proba 0:0.9674696310978821, 1:0.032530368902117905\n",
      "---------\n",
      "right:0, predicted:1\n",
      "находка сочи отзывы\n",
      "predict_proba 0:0.49905952380952373, 1:0.5009404761904762\n",
      "---------\n",
      "right:0, predicted:1\n",
      "отель европа золотые пески\n",
      "predict_proba 0:0.32011111111111107, 1:0.6798888888888888\n",
      "---------\n",
      "right:0, predicted:1\n",
      "улица десантная 38б геленджик россия\n",
      "predict_proba 0:0.4011309523809523, 1:0.5988690476190477\n",
      "---------\n",
      "right:1, predicted:0\n",
      "суздаль гостиницы и гостевые дома \n",
      "predict_proba 0:0.6725, 1:0.3275\n",
      "---------\n",
      "right:0, predicted:1\n",
      "кижская благодать официальный сайт\n",
      "predict_proba 0:0.3611865079365079, 1:0.6388134920634921\n",
      "---------\n",
      "right:0, predicted:1\n",
      "отель ав питер\n",
      "predict_proba 0:0.2856045898545898, 1:0.71439541014541\n",
      "---------\n",
      "right:0, predicted:1\n",
      "болгария святой влас олимп\n",
      "predict_proba 0:0.1534650072150072, 1:0.8465349927849924\n",
      "---------\n",
      "right:0, predicted:1\n",
      "гостиница черноморский\n",
      "predict_proba 0:0.1612318094769232, 1:0.8387681905230768\n",
      "---------\n",
      "right:1, predicted:0\n",
      "мон сен мишель \n",
      "predict_proba 0:0.7699761904761906, 1:0.23002380952380952\n",
      "---------\n",
      "right:0, predicted:1\n",
      "гостиница старый дилижан\n",
      "predict_proba 0:0.304, 1:0.696\n",
      "---------\n",
      "right:0, predicted:1\n",
      "буккинг пхукет\n",
      "predict_proba 0:0.48233728411956756, 1:0.5176627158804326\n",
      "---------\n",
      "right:0, predicted:1\n",
      "маями отель испания\n",
      "predict_proba 0:0.2856045898545898, 1:0.71439541014541\n",
      "---------\n",
      "right:0, predicted:1\n",
      "отель пульман в шанхае\n",
      "predict_proba 0:0.4371681096681097, 1:0.5628318903318903\n",
      "---------\n",
      "right:1, predicted:0\n",
      "antony and the \n",
      "predict_proba 0:0.9674696310978821, 1:0.032530368902117905\n",
      "---------\n",
      "right:0, predicted:1\n",
      "елочки домодедово\n",
      "predict_proba 0:0.0, 1:1.0\n",
      "---------\n",
      "right:1, predicted:0\n",
      "неклиновский район ростовской области официальный сайт \n",
      "predict_proba 0:0.85, 1:0.15\n",
      "---------\n",
      "right:1, predicted:0\n",
      "заказать трактор в москве \n",
      "predict_proba 0:0.6362857142857142, 1:0.3637142857142857\n",
      "---------\n",
      "right:1, predicted:0\n",
      "горнолыжные курорты ленинградской области \n",
      "predict_proba 0:0.5865238095238094, 1:0.4134761904761905\n",
      "---------\n",
      "right:1, predicted:0\n",
      "забронировать отель в астане \n",
      "predict_proba 0:0.6068809523809524, 1:0.3931190476190477\n",
      "---------\n",
      "right:0, predicted:1\n",
      "отель бруно венеция\n",
      "predict_proba 0:0.2856045898545898, 1:0.71439541014541\n",
      "---------\n",
      "right:0, predicted:1\n",
      "немчиновка отелт\n",
      "predict_proba 0:0.48233728411956756, 1:0.5176627158804326\n",
      "---------\n",
      "right:0, predicted:1\n",
      "бридж рессорт сочи 4 на карте\n",
      "predict_proba 0:0.29, 1:0.71\n",
      "---------\n",
      "right:0, predicted:1\n",
      "эсмеральда парко терме\n",
      "predict_proba 0:0.3193103448275862, 1:0.6806896551724138\n",
      "---------\n",
      "right:0, predicted:1\n",
      "студия на парусной\n",
      "predict_proba 0:0.35931034482758617, 1:0.6406896551724138\n",
      "---------\n",
      "right:0, predicted:1\n",
      "солнышко 2 сочи\n",
      "predict_proba 0:0.1459623432123432, 1:0.854037656787657\n",
      "---------\n",
      "right:1, predicted:0\n",
      "хостел на двоих в москве недорого \n",
      "predict_proba 0:0.9, 1:0.1\n",
      "---------\n",
      "right:1, predicted:0\n",
      "пегас туристик оренбург \n",
      "predict_proba 0:0.8175431790431787, 1:0.1824568209568209\n",
      "---------\n",
      "right:1, predicted:0\n",
      "путевки на ибицу \n",
      "predict_proba 0:0.92, 1:0.08\n",
      "---------\n",
      "right:0, predicted:1\n",
      "фобос крым отзывы\n",
      "predict_proba 0:0.49905952380952373, 1:0.5009404761904762\n",
      "---------\n",
      "right:0, predicted:1\n",
      "алоэ кипр\n",
      "predict_proba 0:0.0, 1:1.0\n",
      "---------\n",
      "right:1, predicted:0\n",
      "хостел в москве \n",
      "predict_proba 0:0.9214444444444445, 1:0.07855555555555556\n",
      "---------\n",
      "right:0, predicted:1\n",
      "мадляйн ишгль\n",
      "predict_proba 0:0.48233728411956756, 1:0.5176627158804326\n",
      "---------\n",
      "right:0, predicted:1\n",
      "выборгский отель\n",
      "predict_proba 0:0.2907692307692308, 1:0.7092307692307692\n",
      "---------\n",
      "right:1, predicted:0\n",
      "la jolla калифорния \n",
      "predict_proba 0:0.9674696310978821, 1:0.032530368902117905\n",
      "---------\n",
      "right:1, predicted:0\n",
      "хостел в москве \n",
      "predict_proba 0:0.9214444444444445, 1:0.07855555555555556\n",
      "---------\n",
      "right:0, predicted:1\n",
      "свадьба веселый соловей иваново\n",
      "predict_proba 0:0.1534650072150072, 1:0.8465349927849924\n",
      "---------\n",
      "right:0, predicted:1\n",
      "отель азимут сочи\n",
      "predict_proba 0:0.2856045898545898, 1:0.71439541014541\n",
      "---------\n",
      "right:1, predicted:0\n",
      "переезд в москве недорого \n",
      "predict_proba 0:0.6362857142857142, 1:0.3637142857142857\n",
      "---------\n",
      "right:0, predicted:1\n",
      "лазаревское павлова36\n",
      "predict_proba 0:0.05956343394606618, 1:0.9404365660539338\n",
      "---------\n",
      "right:0, predicted:1\n",
      "батуми палаццо отель\n",
      "predict_proba 0:0.2856045898545898, 1:0.71439541014541\n",
      "---------\n",
      "right:1, predicted:0\n",
      "отели в центре санкт петербурга \n",
      "predict_proba 0:0.618142857142857, 1:0.3818571428571427\n",
      "---------\n",
      "right:1, predicted:0\n",
      "отели в салерно на море \n",
      "predict_proba 0:0.5578095238095238, 1:0.44219047619047624\n",
      "---------\n",
      "right:1, predicted:0\n",
      "штат нью мексико \n",
      "predict_proba 0:0.90412919025419, 1:0.09587080974580972\n",
      "---------\n",
      "right:1, predicted:0\n",
      "забронировать отель в баку \n",
      "predict_proba 0:0.6068809523809524, 1:0.3931190476190477\n",
      "---------\n",
      "right:1, predicted:0\n",
      "отели в ялте отзывы \n",
      "predict_proba 0:0.6724098124098122, 1:0.32759018759018765\n",
      "---------\n",
      "right:1, predicted:0\n",
      "генуя море фото \n",
      "predict_proba 0:0.5242736291486291, 1:0.4757263708513708\n",
      "---------\n",
      "right:0, predicted:1\n",
      "афина алушта\n",
      "predict_proba 0:0.1296624491556285, 1:0.8703375508443711\n",
      "---------\n",
      "right:1, predicted:0\n",
      "дивноморское отдых 2016 цены \n",
      "predict_proba 0:0.65, 1:0.35\n",
      "---------\n"
     ]
    }
   ],
   "source": [
    "for i in range(len(y_pred)):\n",
    "    if y_pred[i] != y_test[i]:\n",
    "        print(\"right:{}, predicted:{}\".format(y_test[i], y_pred[i]))\n",
    "        print(dfX_test[i])\n",
    "        print(\"predict_proba 0:{}, 1:{}\".format(clf.predict_proba(X_test[i].reshape(1, -1))[0][0], \n",
    "                                                clf.predict_proba(X_test[i].reshape(1, -1))[0][1]))\n",
    "        print(\"---------\")"
   ]
  },
  {
   "cell_type": "code",
   "execution_count": 12,
   "metadata": {
    "collapsed": false
   },
   "outputs": [
    {
     "data": {
      "text/plain": [
       "array([1])"
      ]
     },
     "execution_count": 12,
     "metadata": {},
     "output_type": "execute_result"
    }
   ],
   "source": [
    "clf.predict(prep.preprocess([\"санкт-петербург\"]))"
   ]
  },
  {
   "cell_type": "code",
   "execution_count": null,
   "metadata": {
    "collapsed": true
   },
   "outputs": [],
   "source": []
  }
 ],
 "metadata": {
  "kernelspec": {
   "display_name": "Python 3",
   "language": "python",
   "name": "python3"
  },
  "language_info": {
   "codemirror_mode": {
    "name": "ipython",
    "version": 3
   },
   "file_extension": ".py",
   "mimetype": "text/x-python",
   "name": "python",
   "nbconvert_exporter": "python",
   "pygments_lexer": "ipython3",
   "version": "3.6.0"
  }
 },
 "nbformat": 4,
 "nbformat_minor": 0
}
